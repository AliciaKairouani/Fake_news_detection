{
 "cells": [
  {
   "cell_type": "code",
   "execution_count": 1,
   "id": "1badcd4a",
   "metadata": {
    "id": "1badcd4a"
   },
   "outputs": [],
   "source": [
    "import pandas as pd\n",
    "import numpy as np\n",
    "from sklearn.dummy import DummyClassifier\n",
    "from sklearn.model_selection import train_test_split\n",
    "from sklearn.linear_model import LogisticRegression \n",
    "from sklearn.naive_bayes import GaussianNB\n",
    "from sklearn.metrics import accuracy_score\n",
    "from nltk.corpus import stopwords\n",
    "from nltk.stem.porter import PorterStemmer\n",
    "from sklearn.feature_extraction.text import TfidfVectorizer\n",
    "import re\n",
    "from sklearn.metrics import classification_report\n",
    "from xgboost import XGBClassifier\n",
    "import pymysql\n",
    "from urllib.parse import urlparse\n",
    "import pickle\n",
    "import matplotlib.pyplot as plt\n",
    "from sklearn.model_selection import learning_curve, cross_val_score\n",
    "from sklearn.pipeline import Pipeline\n",
    "from sklearn.preprocessing import FunctionTransformer\n",
    "from sklearn.linear_model import PassiveAggressiveClassifier"
   ]
  },
  {
   "cell_type": "code",
   "execution_count": null,
   "id": "655de58d",
   "metadata": {
    "id": "655de58d"
   },
   "outputs": [],
   "source": []
  },
  {
   "cell_type": "code",
   "execution_count": null,
   "id": "c83f29f9",
   "metadata": {
    "id": "c83f29f9"
   },
   "outputs": [],
   "source": [
    "df_train = pd.read_csv(\"data/train.csv\") "
   ]
  },
  {
   "cell_type": "code",
   "execution_count": null,
   "id": "1374857b",
   "metadata": {
    "id": "1374857b"
   },
   "outputs": [],
   "source": [
    "X = df_train[\"text\"]\n",
    "y = df_train[\"label\"]"
   ]
  },
  {
   "cell_type": "code",
   "execution_count": null,
   "id": "54b98c93",
   "metadata": {
    "id": "54b98c93"
   },
   "outputs": [],
   "source": [
    "X_train, X_test, y_train, y_test = train_test_split(X, y, test_size = 0.2)"
   ]
  },
  {
   "attachments": {},
   "cell_type": "markdown",
   "id": "c5944381",
   "metadata": {
    "id": "c5944381"
   },
   "source": [
    "# Pre Process"
   ]
  },
  {
   "cell_type": "code",
   "execution_count": null,
   "id": "8828c921",
   "metadata": {
    "id": "8828c921",
    "outputId": "6e998407-fd92-441a-8ba1-c1db83d41cbc"
   },
   "outputs": [
    {
     "name": "stderr",
     "output_type": "stream",
     "text": [
      "[nltk_data] Downloading package stopwords to /home/axxe/nltk_data...\n",
      "[nltk_data]   Package stopwords is already up-to-date!\n"
     ]
    },
    {
     "data": {
      "text/plain": [
       "True"
      ]
     },
     "execution_count": 56,
     "metadata": {},
     "output_type": "execute_result"
    }
   ],
   "source": [
    "import nltk\n",
    "nltk.download('stopwords')"
   ]
  },
  {
   "cell_type": "code",
   "execution_count": null,
   "id": "87d21ac3",
   "metadata": {
    "id": "87d21ac3"
   },
   "outputs": [],
   "source": [
    "df_train.isnull().sum()\n",
    "df_train = df_train.fillna('')"
   ]
  },
  {
   "cell_type": "code",
   "execution_count": null,
   "id": "fb588fdd",
   "metadata": {
    "id": "fb588fdd"
   },
   "outputs": [],
   "source": [
    "df_train['content'] = df_train['author']+' '+df_train['title']\n",
    "\n"
   ]
  },
  {
   "cell_type": "code",
   "execution_count": null,
   "id": "e39e6fc5",
   "metadata": {
    "id": "e39e6fc5"
   },
   "outputs": [],
   "source": [
    "# Stemming is the process of reducing a word to Root word\n",
    "ps= PorterStemmer()\n",
    "def stemming(content):\n",
    "    if not isinstance(content, str):\n",
    "        content = str(content)\n",
    "    stemmed_content = re.sub('[^a-zA-Z]',' ',content)\n",
    "    stemmed_content = stemmed_content.lower()\n",
    "    stemmed_content = stemmed_content.split()\n",
    "    stemmed_content = [ps.stem(word) for word in stemmed_content if not word in stopwords.words('english')]\n",
    "    stemmed_content = ' '.join(stemmed_content)\n",
    "    return stemmed_content"
   ]
  },
  {
   "cell_type": "code",
   "execution_count": null,
   "id": "4179d2be",
   "metadata": {
    "id": "4179d2be"
   },
   "outputs": [],
   "source": [
    "#df_train['content'] = df_train['content'].apply(stemming)"
   ]
  },
  {
   "cell_type": "code",
   "execution_count": null,
   "id": "2b708c74",
   "metadata": {
    "id": "2b708c74"
   },
   "outputs": [],
   "source": [
    "#df_train['text_stem'] = df_train['text'].apply(stemming)"
   ]
  },
  {
   "cell_type": "code",
   "execution_count": null,
   "id": "7d97d156",
   "metadata": {
    "id": "7d97d156"
   },
   "outputs": [],
   "source": [
    "#df_train.to_csv(\"data/stem_train.csv\")\n",
    "#df_train = pd.read_csv(\"data/stem_train.csv\")\n",
    "#df_train = df_train.fillna(' ')"
   ]
  },
  {
   "cell_type": "code",
   "execution_count": null,
   "id": "72b4f203",
   "metadata": {
    "id": "72b4f203"
   },
   "outputs": [],
   "source": [
    "x = df_train['text'].values\n",
    "y = df_train['label'].values"
   ]
  },
  {
   "cell_type": "code",
   "execution_count": null,
   "id": "fc1cfb9d",
   "metadata": {
    "id": "fc1cfb9d"
   },
   "outputs": [],
   "source": []
  },
  {
   "cell_type": "code",
   "execution_count": null,
   "id": "bf951e95",
   "metadata": {
    "id": "bf951e95",
    "outputId": "93274678-071c-4a53-ec06-fb2079dd6e12"
   },
   "outputs": [
    {
     "ename": "NameError",
     "evalue": "name 'x' is not defined",
     "output_type": "error",
     "traceback": [
      "\u001b[0;31m---------------------------------------------------------------------------\u001b[0m",
      "\u001b[0;31mNameError\u001b[0m                                 Traceback (most recent call last)",
      "Cell \u001b[0;32mIn[18], line 2\u001b[0m\n\u001b[1;32m      1\u001b[0m vectorizer \u001b[39m=\u001b[39m TfidfVectorizer()\n\u001b[0;32m----> 2\u001b[0m vectorizer\u001b[39m.\u001b[39mfit(x)\n\u001b[1;32m      4\u001b[0m x \u001b[39m=\u001b[39m vectorizer\u001b[39m.\u001b[39mtransform(x)\n",
      "\u001b[0;31mNameError\u001b[0m: name 'x' is not defined"
     ]
    }
   ],
   "source": [
    "vectorizer = TfidfVectorizer()\n",
    "vectorizer.fit(x)\n",
    "\n",
    "x = vectorizer.transform(x)"
   ]
  },
  {
   "cell_type": "code",
   "execution_count": null,
   "id": "2db1551a",
   "metadata": {
    "id": "2db1551a"
   },
   "outputs": [],
   "source": []
  },
  {
   "cell_type": "code",
   "execution_count": null,
   "id": "03a8d0a2",
   "metadata": {
    "id": "03a8d0a2"
   },
   "outputs": [],
   "source": [
    "x_train,x_test,y_train,y_test = train_test_split(x,y,test_size = 0.2, stratify=y, random_state=2)"
   ]
  },
  {
   "cell_type": "code",
   "execution_count": null,
   "id": "31f58642",
   "metadata": {
    "id": "31f58642",
    "outputId": "3f428fc9-0b6c-4bb8-8b7e-f364105da7f0"
   },
   "outputs": [
    {
     "data": {
      "text/plain": [
       "(20800,)"
      ]
     },
     "execution_count": 15,
     "metadata": {},
     "output_type": "execute_result"
    }
   ],
   "source": [
    "df_train[\"text\"].shape"
   ]
  },
  {
   "cell_type": "code",
   "execution_count": null,
   "id": "d520e7ca",
   "metadata": {
    "id": "d520e7ca",
    "outputId": "f1ed2e44-d26c-4589-eeb3-08eafed6ac27"
   },
   "outputs": [
    {
     "data": {
      "text/plain": [
       "(20800,)"
      ]
     },
     "execution_count": 16,
     "metadata": {},
     "output_type": "execute_result"
    }
   ],
   "source": [
    "df_train[\"content\"].shape"
   ]
  },
  {
   "attachments": {},
   "cell_type": "markdown",
   "id": "e717986b",
   "metadata": {
    "id": "e717986b"
   },
   "source": [
    "# Baseline ( author + title )"
   ]
  },
  {
   "attachments": {},
   "cell_type": "markdown",
   "id": "88ca670c",
   "metadata": {
    "id": "88ca670c"
   },
   "source": [
    "## Log_Reg "
   ]
  },
  {
   "cell_type": "code",
   "execution_count": null,
   "id": "7e3bff95",
   "metadata": {
    "id": "7e3bff95",
    "outputId": "9c1d4bce-5295-4467-a57c-6e23ba6a1ab2"
   },
   "outputs": [
    {
     "data": {
      "text/html": [
       "<style>#sk-container-id-1 {color: black;background-color: white;}#sk-container-id-1 pre{padding: 0;}#sk-container-id-1 div.sk-toggleable {background-color: white;}#sk-container-id-1 label.sk-toggleable__label {cursor: pointer;display: block;width: 100%;margin-bottom: 0;padding: 0.3em;box-sizing: border-box;text-align: center;}#sk-container-id-1 label.sk-toggleable__label-arrow:before {content: \"▸\";float: left;margin-right: 0.25em;color: #696969;}#sk-container-id-1 label.sk-toggleable__label-arrow:hover:before {color: black;}#sk-container-id-1 div.sk-estimator:hover label.sk-toggleable__label-arrow:before {color: black;}#sk-container-id-1 div.sk-toggleable__content {max-height: 0;max-width: 0;overflow: hidden;text-align: left;background-color: #f0f8ff;}#sk-container-id-1 div.sk-toggleable__content pre {margin: 0.2em;color: black;border-radius: 0.25em;background-color: #f0f8ff;}#sk-container-id-1 input.sk-toggleable__control:checked~div.sk-toggleable__content {max-height: 200px;max-width: 100%;overflow: auto;}#sk-container-id-1 input.sk-toggleable__control:checked~label.sk-toggleable__label-arrow:before {content: \"▾\";}#sk-container-id-1 div.sk-estimator input.sk-toggleable__control:checked~label.sk-toggleable__label {background-color: #d4ebff;}#sk-container-id-1 div.sk-label input.sk-toggleable__control:checked~label.sk-toggleable__label {background-color: #d4ebff;}#sk-container-id-1 input.sk-hidden--visually {border: 0;clip: rect(1px 1px 1px 1px);clip: rect(1px, 1px, 1px, 1px);height: 1px;margin: -1px;overflow: hidden;padding: 0;position: absolute;width: 1px;}#sk-container-id-1 div.sk-estimator {font-family: monospace;background-color: #f0f8ff;border: 1px dotted black;border-radius: 0.25em;box-sizing: border-box;margin-bottom: 0.5em;}#sk-container-id-1 div.sk-estimator:hover {background-color: #d4ebff;}#sk-container-id-1 div.sk-parallel-item::after {content: \"\";width: 100%;border-bottom: 1px solid gray;flex-grow: 1;}#sk-container-id-1 div.sk-label:hover label.sk-toggleable__label {background-color: #d4ebff;}#sk-container-id-1 div.sk-serial::before {content: \"\";position: absolute;border-left: 1px solid gray;box-sizing: border-box;top: 0;bottom: 0;left: 50%;z-index: 0;}#sk-container-id-1 div.sk-serial {display: flex;flex-direction: column;align-items: center;background-color: white;padding-right: 0.2em;padding-left: 0.2em;position: relative;}#sk-container-id-1 div.sk-item {position: relative;z-index: 1;}#sk-container-id-1 div.sk-parallel {display: flex;align-items: stretch;justify-content: center;background-color: white;position: relative;}#sk-container-id-1 div.sk-item::before, #sk-container-id-1 div.sk-parallel-item::before {content: \"\";position: absolute;border-left: 1px solid gray;box-sizing: border-box;top: 0;bottom: 0;left: 50%;z-index: -1;}#sk-container-id-1 div.sk-parallel-item {display: flex;flex-direction: column;z-index: 1;position: relative;background-color: white;}#sk-container-id-1 div.sk-parallel-item:first-child::after {align-self: flex-end;width: 50%;}#sk-container-id-1 div.sk-parallel-item:last-child::after {align-self: flex-start;width: 50%;}#sk-container-id-1 div.sk-parallel-item:only-child::after {width: 0;}#sk-container-id-1 div.sk-dashed-wrapped {border: 1px dashed gray;margin: 0 0.4em 0.5em 0.4em;box-sizing: border-box;padding-bottom: 0.4em;background-color: white;}#sk-container-id-1 div.sk-label label {font-family: monospace;font-weight: bold;display: inline-block;line-height: 1.2em;}#sk-container-id-1 div.sk-label-container {text-align: center;}#sk-container-id-1 div.sk-container {/* jupyter's `normalize.less` sets `[hidden] { display: none; }` but bootstrap.min.css set `[hidden] { display: none !important; }` so we also need the `!important` here to be able to override the default hidden behavior on the sphinx rendered scikit-learn.org. See: https://github.com/scikit-learn/scikit-learn/issues/21755 */display: inline-block !important;position: relative;}#sk-container-id-1 div.sk-text-repr-fallback {display: none;}</style><div id=\"sk-container-id-1\" class=\"sk-top-container\"><div class=\"sk-text-repr-fallback\"><pre>LogisticRegression()</pre><b>In a Jupyter environment, please rerun this cell to show the HTML representation or trust the notebook. <br />On GitHub, the HTML representation is unable to render, please try loading this page with nbviewer.org.</b></div><div class=\"sk-container\" hidden><div class=\"sk-item\"><div class=\"sk-estimator sk-toggleable\"><input class=\"sk-toggleable__control sk-hidden--visually\" id=\"sk-estimator-id-1\" type=\"checkbox\" checked><label for=\"sk-estimator-id-1\" class=\"sk-toggleable__label sk-toggleable__label-arrow\">LogisticRegression</label><div class=\"sk-toggleable__content\"><pre>LogisticRegression()</pre></div></div></div></div></div>"
      ],
      "text/plain": [
       "LogisticRegression()"
      ]
     },
     "execution_count": 18,
     "metadata": {},
     "output_type": "execute_result"
    }
   ],
   "source": [
    "models = LogisticRegression()\n",
    "models.fit(x_train,y_train)"
   ]
  },
  {
   "cell_type": "code",
   "execution_count": null,
   "id": "8828757c",
   "metadata": {
    "id": "8828757c",
    "outputId": "21a09e81-3c5d-44a4-eece-c0ea06e01b53"
   },
   "outputs": [
    {
     "name": "stdout",
     "output_type": "stream",
     "text": [
      "Accuracy score: 0.9865985576923076\n",
      "              precision    recall  f1-score   support\n",
      "\n",
      "        Real       0.99      0.98      0.99      8310\n",
      "        Fake       0.98      0.99      0.99      8330\n",
      "\n",
      "    accuracy                           0.99     16640\n",
      "   macro avg       0.99      0.99      0.99     16640\n",
      "weighted avg       0.99      0.99      0.99     16640\n",
      "\n"
     ]
    }
   ],
   "source": [
    "target_names = ['Real', 'Fake']\n",
    "\n",
    "y_predict = models.predict(x_train)\n",
    "\n",
    "training_data_acc = accuracy_score(y_predict,y_train)\n",
    "print(f\"Accuracy score: {training_data_acc}\")\n",
    "\n",
    "print(classification_report(y_train, y_predict, target_names=target_names))"
   ]
  },
  {
   "attachments": {},
   "cell_type": "markdown",
   "id": "417c9728",
   "metadata": {
    "id": "417c9728"
   },
   "source": [
    "# Baseline ( text )"
   ]
  },
  {
   "cell_type": "code",
   "execution_count": null,
   "id": "a0b70ec6",
   "metadata": {
    "id": "a0b70ec6"
   },
   "outputs": [],
   "source": [
    "df_train = pd.read_csv(\"data/stem_train.csv\")\n",
    "#df_train = df_train.fillna(' ')\n",
    "#df_train.to_csv(\"data/stem_train.csv\")\n"
   ]
  },
  {
   "cell_type": "code",
   "execution_count": null,
   "id": "57ec3f05",
   "metadata": {
    "id": "57ec3f05"
   },
   "outputs": [],
   "source": [
    "x1 = df_train['text'].values\n",
    "y1 = df_train['label'].values"
   ]
  },
  {
   "cell_type": "code",
   "execution_count": null,
   "id": "6ad2e3b2",
   "metadata": {
    "id": "6ad2e3b2"
   },
   "outputs": [],
   "source": [
    "vectorizer = TfidfVectorizer()\n",
    "vec = vectorizer.fit(x1)\n",
    "\n",
    "x1 = vec.transform(x1)"
   ]
  },
  {
   "cell_type": "code",
   "execution_count": null,
   "id": "c9dc3896",
   "metadata": {
    "id": "c9dc3896",
    "outputId": "dbb0dbc1-5cb7-4b2f-c3e7-8879e51e754f"
   },
   "outputs": [
    {
     "data": {
      "text/plain": [
       "<1x180445 sparse matrix of type '<class 'numpy.float64'>'\n",
       "\twith 357 stored elements in Compressed Sparse Row format>"
      ]
     },
     "execution_count": 6,
     "metadata": {},
     "output_type": "execute_result"
    }
   ],
   "source": [
    "x1[0]"
   ]
  },
  {
   "cell_type": "code",
   "execution_count": null,
   "id": "93b3ebdb",
   "metadata": {
    "id": "93b3ebdb",
    "outputId": "59dee6b4-bbf7-433b-f3e6-6d406d3bce6e"
   },
   "outputs": [
    {
     "data": {
      "text/plain": [
       "(20800, 180445)"
      ]
     },
     "execution_count": 7,
     "metadata": {},
     "output_type": "execute_result"
    }
   ],
   "source": [
    "x1.shape"
   ]
  },
  {
   "cell_type": "code",
   "execution_count": null,
   "id": "b0c18784",
   "metadata": {
    "id": "b0c18784"
   },
   "outputs": [],
   "source": [
    "x1_train,x1_test,y1_train,y1_test = train_test_split(x1,y1,test_size = 0.2, stratify=y1, random_state=2)"
   ]
  },
  {
   "attachments": {},
   "cell_type": "markdown",
   "id": "75667ba4",
   "metadata": {
    "id": "75667ba4"
   },
   "source": [
    "## Log_Reg"
   ]
  },
  {
   "cell_type": "code",
   "execution_count": null,
   "id": "61413fb1",
   "metadata": {
    "id": "61413fb1"
   },
   "outputs": [],
   "source": [
    "\n",
    "model = LogisticRegression()\n",
    "model.fit(x1_train, y1_train)\n",
    "\n",
    "# Prédire les étiquettes sur les données d'entraînement\n",
    "y1_train_predict = model.predict(x1_test)\n",
    "\n",
    "# Calculer l'exactitude sur les données d'entraînement\n",
    "training_data_acc = accuracy_score(y1_test, y1_train_predict)\n",
    "print(f\"Accuracy score: {training_data_acc}\")\n",
    "\n",
    "# Afficher le rapport de classification\n",
    "target_names = ['Real', 'Fake']\n",
    "print(classification_report(y1_test, y1_train_predict, target_names=target_names))\n",
    "\n",
    "# Calculer la courbe d'apprentissage\n",
    "train_sizes, train_scores, val_scores = learning_curve(model, x1_train, y1_train, cv=5, scoring='accuracy')\n",
    "\n",
    "# Calculer la moyenne et l'écart type des scores d'entraînement et de validation\n",
    "train_scores_mean = np.mean(train_scores, axis=1)\n",
    "train_scores_std = np.std(train_scores, axis=1)\n",
    "val_scores_mean = np.mean(val_scores, axis=1)\n",
    "val_scores_std = np.std(val_scores, axis=1)\n",
    "\n",
    "# Tracer la courbe d'apprentissage\n",
    "plt.figure()\n",
    "plt.title(\"Courbe d'apprentissage\")\n",
    "plt.xlabel(\"Taille de l'ensemble d'entraînement\")\n",
    "plt.ylabel(\"Score\")\n",
    "plt.grid()\n",
    "\n",
    "plt.fill_between(train_sizes, train_scores_mean - train_scores_std, train_scores_mean + train_scores_std, alpha=0.1, color=\"r\")\n",
    "plt.fill_between(train_sizes, val_scores_mean - val_scores_std, val_scores_mean + val_scores_std, alpha=0.1, color=\"g\")\n",
    "\n",
    "plt.plot(train_sizes, train_scores_mean, 'o-', color=\"r\", label=\"Score d'entraînement\")\n",
    "plt.plot(train_sizes, val_scores_mean, 'o-', color=\"g\", label=\"Score de validation\")\n",
    "\n",
    "plt.legend(loc=\"best\")\n",
    "plt.show()\n"
   ]
  },
  {
   "attachments": {},
   "cell_type": "markdown",
   "id": "032b5cf7",
   "metadata": {
    "id": "032b5cf7"
   },
   "source": [
    "## Passive Aggressive Classifier"
   ]
  },
  {
   "cell_type": "code",
   "execution_count": null,
   "id": "70010df5",
   "metadata": {
    "id": "70010df5",
    "outputId": "d956e631-acea-4839-b0e4-154271a92009"
   },
   "outputs": [
    {
     "name": "stdout",
     "output_type": "stream",
     "text": [
      "Test Set Accuracy : 96.03365384615384 %\n",
      "\n",
      "\n",
      "              precision    recall  f1-score   support\n",
      "\n",
      "        Real       0.96      0.96      0.96      2077\n",
      "        Fake       0.96      0.96      0.96      2083\n",
      "\n",
      "    accuracy                           0.96      4160\n",
      "   macro avg       0.96      0.96      0.96      4160\n",
      "weighted avg       0.96      0.96      0.96      4160\n",
      "\n"
     ]
    }
   ],
   "source": [
    "pac = PassiveAggressiveClassifier(C = 0.5, random_state = 5)\n",
    " \n",
    "# Fitting model\n",
    "pac.fit(x1_train, y1_train)\n",
    " \n",
    "# Making prediction on test set\n",
    "test_pred = pac.predict(x1_test)\n",
    " \n",
    "# Model evaluation\n",
    "print(f\"Test Set Accuracy : {accuracy_score(y1_test, test_pred) * 100} %\\n\\n\") \n",
    " \n",
    "target_names = ['Real', 'Fake']\n",
    "print(classification_report(y1_test, test_pred, target_names=target_names))"
   ]
  },
  {
   "cell_type": "code",
   "execution_count": null,
   "id": "503d7088",
   "metadata": {
    "id": "503d7088",
    "outputId": "42d4629b-a394-47f6-fec9-60968f3aaf04"
   },
   "outputs": [
    {
     "data": {
      "image/png": "[encoded data removed]",
      "text/plain": [
       "<Figure size 640x480 with 1 Axes>"
      ]
     },
     "metadata": {},
     "output_type": "display_data"
    }
   ],
   "source": [
    "# Calculer la courbe d'apprentissage\n",
    "train_sizes, train_scores, val_scores = learning_curve(pac, x1_train, y1_train, cv=5, scoring='accuracy')\n",
    "\n",
    "# Calculer la moyenne et l'écart type des scores d'entraînement et de validation\n",
    "train_scores_mean = np.mean(train_scores, axis=1)\n",
    "train_scores_std = np.std(train_scores, axis=1)\n",
    "val_scores_mean = np.mean(val_scores, axis=1)\n",
    "val_scores_std = np.std(val_scores, axis=1)\n",
    "\n",
    "# Tracer la courbe d'apprentissage\n",
    "plt.figure()\n",
    "plt.title(\"Courbe d'apprentissage\")\n",
    "plt.xlabel(\"Taille de l'ensemble d'entraînement\")\n",
    "plt.ylabel(\"Score\")\n",
    "plt.grid()\n",
    "\n",
    "plt.fill_between(train_sizes, train_scores_mean - train_scores_std, train_scores_mean + train_scores_std, alpha=0.1, color=\"r\")\n",
    "plt.fill_between(train_sizes, val_scores_mean - val_scores_std, val_scores_mean + val_scores_std, alpha=0.1, color=\"g\")\n",
    "\n",
    "plt.plot(train_sizes, train_scores_mean, 'o-', color=\"r\", label=\"Score d'entraînement\")\n",
    "plt.plot(train_sizes, val_scores_mean, 'o-', color=\"g\", label=\"Score de validation\")\n",
    "\n",
    "plt.legend(loc=\"best\")\n",
    "plt.show()"
   ]
  },
  {
   "cell_type": "code",
   "execution_count": null,
   "id": "ZPVH63h-GYrm",
   "metadata": {
    "id": "ZPVH63h-GYrm"
   },
   "outputs": [],
   "source": [
    "# x1_train[0::]"
   ]
  },
  {
   "attachments": {},
   "cell_type": "markdown",
   "id": "556ee85e",
   "metadata": {
    "id": "556ee85e"
   },
   "source": [
    "## Pipeline v1"
   ]
  },
  {
   "cell_type": "code",
   "execution_count": null,
   "id": "38812ad9",
   "metadata": {
    "id": "38812ad9"
   },
   "outputs": [],
   "source": [
    "pipeline = Pipeline([\n",
    "    ('stemming', FunctionTransformer(func=stemming)),\n",
    "    ('vectorizer', TfidfVectorizer()),\n",
    "    ('model', LogisticRegression())\n",
    "])\n",
    "\n",
    "pipeline.fit(X_train, y_train)\n",
    "\n",
    "y_test_predict = pipeline.predict(X_test)\n",
    "\n",
    "test_data_acc = accuracy_score(y_test, y_test_predict)\n",
    "print(f\"Accuracy score: {test_data_acc}\")"
   ]
  },
  {
   "cell_type": "code",
   "execution_count": null,
   "id": "7136931d",
   "metadata": {
    "id": "7136931d"
   },
   "outputs": [],
   "source": [
    "from sklearn.base import BaseEstimator, TransformerMixin\n",
    "from sklearn.pipeline import Pipeline\n",
    "from sklearn.feature_extraction.text import TfidfVectorizer\n",
    "from sklearn.linear_model import LogisticRegression\n",
    "from sklearn.metrics import accuracy_score\n",
    "\n",
    "class MyTokenizer(BaseEstimator, TransformerMixin):\n",
    "    def __init__(self):\n",
    "        pass\n",
    "    \n",
    "    def fit(self, X, y=None):\n",
    "        return self\n",
    "    \n",
    "    def transform(self, X):\n",
    "        return [' '.join(tokens) if isinstance(tokens, list) else tokens for tokens in X]\n",
    "\n",
    "\n",
    "# Étape de tokenization\n",
    "tokenizer = MyTokenizer()\n",
    "x1_train_tokenized = tokenizer.transform(X_train)\n",
    "x1_test_tokenized = tokenizer.transform(X_test)\n",
    "\n",
    "print(x1_train_tokenized)\n",
    "print(x1_test_tokenized)\n",
    "\n",
    "\n",
    "# Vérification du vocabulaire\n",
    "if not any(x1_train_tokenized):\n",
    "    print(\"Le vocabulaire est vide. Vérifiez vos documents tokenisés.\")\n",
    "else:\n",
    "    # Pipeline principal\n",
    "    pipeline = Pipeline([\n",
    "        ('vectorizer', TfidfVectorizer(stop_words='english')),\n",
    "        ('model', LogisticRegression())\n",
    "    ])\n",
    "\n",
    "    pipeline.fit(x1_train_tokenized, y_train)\n",
    "\n",
    "    y1_test_predict = pipeline.predict(x1_test_tokenized)\n",
    "\n",
    "    test_data_acc = accuracy_score(y_test, y1_test_predict)\n",
    "    print(f\"Accuracy score: {test_data_acc}\")\n",
    "\n",
    "\n",
    "\n"
   ]
  },
  {
   "attachments": {},
   "cell_type": "markdown",
   "id": "762348a3",
   "metadata": {
    "id": "762348a3"
   },
   "source": [
    "## XGBoost Classifier"
   ]
  },
  {
   "cell_type": "code",
   "execution_count": null,
   "id": "7670947f",
   "metadata": {
    "id": "7670947f"
   },
   "outputs": [],
   "source": [
    "bst = XGBClassifier(n_estimators=5, max_depth=5, learning_rate=1, objective='binary:logistic')"
   ]
  },
  {
   "cell_type": "code",
   "execution_count": null,
   "id": "fb266308",
   "metadata": {
    "id": "fb266308",
    "outputId": "9020928e-4734-4cc4-cf69-735dd6e451e9"
   },
   "outputs": [
    {
     "name": "stdout",
     "output_type": "stream",
     "text": [
      "Accuracy score: 0.9024038461538462\n",
      "              precision    recall  f1-score   support\n",
      "\n",
      "        Real       0.90      0.90      0.90      2077\n",
      "        Fake       0.90      0.90      0.90      2083\n",
      "\n",
      "    accuracy                           0.90      4160\n",
      "   macro avg       0.90      0.90      0.90      4160\n",
      "weighted avg       0.90      0.90      0.90      4160\n",
      "\n"
     ]
    }
   ],
   "source": [
    "# fit model\n",
    "bst.fit(x1_train, y1_train)\n",
    "# make predictions\n",
    "preds = bst.predict(x1_test)\n",
    "\n",
    "training_data_acc = accuracy_score(y1_test, preds)\n",
    "print(f\"Accuracy score: {training_data_acc}\")\n",
    "\n",
    "target_names = ['Real', 'Fake']\n",
    "print(classification_report(y1_test, preds, target_names=target_names))"
   ]
  },
  {
   "cell_type": "code",
   "execution_count": null,
   "id": "5929e22f",
   "metadata": {
    "id": "5929e22f",
    "outputId": "2d480208-2dd4-4b86-c52d-3fb5a64e2bb8"
   },
   "outputs": [
    {
     "data": {
      "text/plain": [
       "array([1, 0, 1, ..., 1, 1, 0])"
      ]
     },
     "execution_count": 31,
     "metadata": {},
     "output_type": "execute_result"
    }
   ],
   "source": [
    "preds"
   ]
  },
  {
   "attachments": {},
   "cell_type": "markdown",
   "id": "d8549acd",
   "metadata": {
    "id": "d8549acd"
   },
   "source": [
    "# Test"
   ]
  },
  {
   "cell_type": "code",
   "execution_count": null,
   "id": "1b2a6883",
   "metadata": {
    "id": "1b2a6883"
   },
   "outputs": [],
   "source": [
    "df_test = pd.read_csv(\"data/stem_test.csv\")"
   ]
  },
  {
   "cell_type": "code",
   "execution_count": null,
   "id": "2259b780",
   "metadata": {
    "id": "2259b780"
   },
   "outputs": [],
   "source": [
    "df_test = df_test.fillna('')"
   ]
  },
  {
   "cell_type": "code",
   "execution_count": null,
   "id": "57aaede0",
   "metadata": {
    "id": "57aaede0",
    "outputId": "6d3191a8-71a9-465c-929e-682ec4637b06"
   },
   "outputs": [
    {
     "data": {
      "text/html": [
       "<div>\n",
       "<style scoped>\n",
       "    .dataframe tbody tr th:only-of-type {\n",
       "        vertical-align: middle;\n",
       "    }\n",
       "\n",
       "    .dataframe tbody tr th {\n",
       "        vertical-align: top;\n",
       "    }\n",
       "\n",
       "    .dataframe thead th {\n",
       "        text-align: right;\n",
       "    }\n",
       "</style>\n",
       "<table border=\"1\" class=\"dataframe\">\n",
       "  <thead>\n",
       "    <tr style=\"text-align: right;\">\n",
       "      <th></th>\n",
       "      <th>Unnamed: 0</th>\n",
       "      <th>id</th>\n",
       "      <th>title</th>\n",
       "      <th>author</th>\n",
       "      <th>text</th>\n",
       "      <th>text_stem</th>\n",
       "    </tr>\n",
       "  </thead>\n",
       "  <tbody>\n",
       "    <tr>\n",
       "      <th>0</th>\n",
       "      <td>0</td>\n",
       "      <td>20800</td>\n",
       "      <td>Specter of Trump Loosens Tongues, if Not Purse...</td>\n",
       "      <td>David Streitfeld</td>\n",
       "      <td>PALO ALTO, Calif.  —   After years of scorning...</td>\n",
       "      <td>palo alto calif year scorn polit process silic...</td>\n",
       "    </tr>\n",
       "    <tr>\n",
       "      <th>1</th>\n",
       "      <td>1</td>\n",
       "      <td>20801</td>\n",
       "      <td>Russian warships ready to strike terrorists ne...</td>\n",
       "      <td></td>\n",
       "      <td>Russian warships ready to strike terrorists ne...</td>\n",
       "      <td>russian warship readi strike terrorist near al...</td>\n",
       "    </tr>\n",
       "    <tr>\n",
       "      <th>2</th>\n",
       "      <td>2</td>\n",
       "      <td>20802</td>\n",
       "      <td>#NoDAPL: Native American Leaders Vow to Stay A...</td>\n",
       "      <td>Common Dreams</td>\n",
       "      <td>Videos #NoDAPL: Native American Leaders Vow to...</td>\n",
       "      <td>video nodapl nativ american leader vow stay wi...</td>\n",
       "    </tr>\n",
       "    <tr>\n",
       "      <th>3</th>\n",
       "      <td>3</td>\n",
       "      <td>20803</td>\n",
       "      <td>Tim Tebow Will Attempt Another Comeback, This ...</td>\n",
       "      <td>Daniel Victor</td>\n",
       "      <td>If at first you don’t succeed, try a different...</td>\n",
       "      <td>first succeed tri differ sport tim tebow heism...</td>\n",
       "    </tr>\n",
       "    <tr>\n",
       "      <th>4</th>\n",
       "      <td>4</td>\n",
       "      <td>20804</td>\n",
       "      <td>Keiser Report: Meme Wars (E995)</td>\n",
       "      <td>Truth Broadcast Network</td>\n",
       "      <td>42 mins ago 1 Views 0 Comments 0 Likes 'For th...</td>\n",
       "      <td>min ago view comment like first time histori f...</td>\n",
       "    </tr>\n",
       "    <tr>\n",
       "      <th>...</th>\n",
       "      <td>...</td>\n",
       "      <td>...</td>\n",
       "      <td>...</td>\n",
       "      <td>...</td>\n",
       "      <td>...</td>\n",
       "      <td>...</td>\n",
       "    </tr>\n",
       "    <tr>\n",
       "      <th>5195</th>\n",
       "      <td>5195</td>\n",
       "      <td>25995</td>\n",
       "      <td>The Bangladeshi Traffic Jam That Never Ends - ...</td>\n",
       "      <td>Jody Rosen</td>\n",
       "      <td>Of all the dysfunctions that plague the world’...</td>\n",
       "      <td>dysfunct plagu world megac none may pernici ba...</td>\n",
       "    </tr>\n",
       "    <tr>\n",
       "      <th>5196</th>\n",
       "      <td>5196</td>\n",
       "      <td>25996</td>\n",
       "      <td>John Kasich Signs One Abortion Bill in Ohio bu...</td>\n",
       "      <td>Sheryl Gay Stolberg</td>\n",
       "      <td>WASHINGTON  —   Gov. John Kasich of Ohio on Tu...</td>\n",
       "      <td>washington gov john kasich ohio tuesday sign l...</td>\n",
       "    </tr>\n",
       "    <tr>\n",
       "      <th>5197</th>\n",
       "      <td>5197</td>\n",
       "      <td>25997</td>\n",
       "      <td>California Today: What, Exactly, Is in Your Su...</td>\n",
       "      <td>Mike McPhate</td>\n",
       "      <td>Good morning. (Want to get California Today by...</td>\n",
       "      <td>good morn want get california today email joan...</td>\n",
       "    </tr>\n",
       "    <tr>\n",
       "      <th>5198</th>\n",
       "      <td>5198</td>\n",
       "      <td>25998</td>\n",
       "      <td>300 US Marines To Be Deployed To Russian Borde...</td>\n",
       "      <td></td>\n",
       "      <td>« Previous - Next » 300 US Marines To Be Deplo...</td>\n",
       "      <td>previou next us marin deploy russian border no...</td>\n",
       "    </tr>\n",
       "    <tr>\n",
       "      <th>5199</th>\n",
       "      <td>5199</td>\n",
       "      <td>25999</td>\n",
       "      <td>Awkward Sex, Onscreen and Off - The New York T...</td>\n",
       "      <td>Teddy Wayne</td>\n",
       "      <td>Perhaps you’ve seen the new TV series whose pi...</td>\n",
       "      <td>perhap seen new tv seri whose pilot episod beg...</td>\n",
       "    </tr>\n",
       "  </tbody>\n",
       "</table>\n",
       "<p>5200 rows × 6 columns</p>\n",
       "</div>"
      ],
      "text/plain": [
       "      Unnamed: 0     id                                              title   \n",
       "0              0  20800  Specter of Trump Loosens Tongues, if Not Purse...  \\\n",
       "1              1  20801  Russian warships ready to strike terrorists ne...   \n",
       "2              2  20802  #NoDAPL: Native American Leaders Vow to Stay A...   \n",
       "3              3  20803  Tim Tebow Will Attempt Another Comeback, This ...   \n",
       "4              4  20804                    Keiser Report: Meme Wars (E995)   \n",
       "...          ...    ...                                                ...   \n",
       "5195        5195  25995  The Bangladeshi Traffic Jam That Never Ends - ...   \n",
       "5196        5196  25996  John Kasich Signs One Abortion Bill in Ohio bu...   \n",
       "5197        5197  25997  California Today: What, Exactly, Is in Your Su...   \n",
       "5198        5198  25998  300 US Marines To Be Deployed To Russian Borde...   \n",
       "5199        5199  25999  Awkward Sex, Onscreen and Off - The New York T...   \n",
       "\n",
       "                       author   \n",
       "0            David Streitfeld  \\\n",
       "1                               \n",
       "2               Common Dreams   \n",
       "3               Daniel Victor   \n",
       "4     Truth Broadcast Network   \n",
       "...                       ...   \n",
       "5195               Jody Rosen   \n",
       "5196      Sheryl Gay Stolberg   \n",
       "5197             Mike McPhate   \n",
       "5198                            \n",
       "5199              Teddy Wayne   \n",
       "\n",
       "                                                   text   \n",
       "0     PALO ALTO, Calif.  —   After years of scorning...  \\\n",
       "1     Russian warships ready to strike terrorists ne...   \n",
       "2     Videos #NoDAPL: Native American Leaders Vow to...   \n",
       "3     If at first you don’t succeed, try a different...   \n",
       "4     42 mins ago 1 Views 0 Comments 0 Likes 'For th...   \n",
       "...                                                 ...   \n",
       "5195  Of all the dysfunctions that plague the world’...   \n",
       "5196  WASHINGTON  —   Gov. John Kasich of Ohio on Tu...   \n",
       "5197  Good morning. (Want to get California Today by...   \n",
       "5198  « Previous - Next » 300 US Marines To Be Deplo...   \n",
       "5199  Perhaps you’ve seen the new TV series whose pi...   \n",
       "\n",
       "                                              text_stem  \n",
       "0     palo alto calif year scorn polit process silic...  \n",
       "1     russian warship readi strike terrorist near al...  \n",
       "2     video nodapl nativ american leader vow stay wi...  \n",
       "3     first succeed tri differ sport tim tebow heism...  \n",
       "4     min ago view comment like first time histori f...  \n",
       "...                                                 ...  \n",
       "5195  dysfunct plagu world megac none may pernici ba...  \n",
       "5196  washington gov john kasich ohio tuesday sign l...  \n",
       "5197  good morn want get california today email joan...  \n",
       "5198  previou next us marin deploy russian border no...  \n",
       "5199  perhap seen new tv seri whose pilot episod beg...  \n",
       "\n",
       "[5200 rows x 6 columns]"
      ]
     },
     "execution_count": 27,
     "metadata": {},
     "output_type": "execute_result"
    }
   ],
   "source": [
    "df_test"
   ]
  },
  {
   "cell_type": "code",
   "execution_count": null,
   "id": "1f745704",
   "metadata": {
    "id": "1f745704"
   },
   "outputs": [],
   "source": [
    "#df_test[\"text_stem\"] = df_test['text'].apply(stemming)"
   ]
  },
  {
   "cell_type": "code",
   "execution_count": null,
   "id": "258366ab",
   "metadata": {
    "id": "258366ab"
   },
   "outputs": [],
   "source": [
    "#df_test.to_csv(\"data/stem_test.csv\")"
   ]
  },
  {
   "cell_type": "code",
   "execution_count": null,
   "id": "Zo1t2S8qGmUH",
   "metadata": {
    "id": "Zo1t2S8qGmUH"
   },
   "outputs": [],
   "source": [
    "x2 = df_test[\"text_stem\"].values\n",
    "# x2[::]"
   ]
  },
  {
   "cell_type": "code",
   "execution_count": null,
   "id": "1d5c10c6",
   "metadata": {
    "id": "1d5c10c6"
   },
   "outputs": [],
   "source": [
    "x2 = vectorizer.transform(x2)"
   ]
  },
  {
   "cell_type": "code",
   "execution_count": null,
   "id": "ae70d3aa",
   "metadata": {
    "id": "ae70d3aa",
    "outputId": "bf8a502c-ae74-4ece-8ca1-fda381fa4dfb"
   },
   "outputs": [
    {
     "ename": "NameError",
     "evalue": "name 'pac' is not defined",
     "output_type": "error",
     "traceback": [
      "\u001b[0;31m---------------------------------------------------------------------------\u001b[0m",
      "\u001b[0;31mNameError\u001b[0m                                 Traceback (most recent call last)",
      "Cell \u001b[0;32mIn[37], line 1\u001b[0m\n\u001b[0;32m----> 1\u001b[0m pac\u001b[39m.\u001b[39mpredict(x2)\n",
      "\u001b[0;31mNameError\u001b[0m: name 'pac' is not defined"
     ]
    }
   ],
   "source": [
    "pac.predict(x2)"
   ]
  },
  {
   "attachments": {},
   "cell_type": "markdown",
   "id": "367ae2e3",
   "metadata": {
    "id": "367ae2e3"
   },
   "source": [
    "# New Training"
   ]
  },
  {
   "cell_type": "code",
   "execution_count": null,
   "id": "5ccacd0a",
   "metadata": {
    "id": "5ccacd0a"
   },
   "outputs": [],
   "source": [
    "new_df = pd.read_csv(\"data/WELFake_Dataset.csv\")\n",
    "new_df = new_df.drop(\"Unnamed: 0\", axis=1)"
   ]
  },
  {
   "cell_type": "code",
   "execution_count": null,
   "id": "36e1beac",
   "metadata": {
    "id": "36e1beac",
    "outputId": "3cd7d94d-3997-4ca9-ca36-68071cb57c9b"
   },
   "outputs": [
    {
     "data": {
      "text/html": [
       "<div>\n",
       "<style scoped>\n",
       "    .dataframe tbody tr th:only-of-type {\n",
       "        vertical-align: middle;\n",
       "    }\n",
       "\n",
       "    .dataframe tbody tr th {\n",
       "        vertical-align: top;\n",
       "    }\n",
       "\n",
       "    .dataframe thead th {\n",
       "        text-align: right;\n",
       "    }\n",
       "</style>\n",
       "<table border=\"1\" class=\"dataframe\">\n",
       "  <thead>\n",
       "    <tr style=\"text-align: right;\">\n",
       "      <th></th>\n",
       "      <th>title</th>\n",
       "      <th>text</th>\n",
       "      <th>label</th>\n",
       "    </tr>\n",
       "  </thead>\n",
       "  <tbody>\n",
       "    <tr>\n",
       "      <th>0</th>\n",
       "      <td>House Dem Aide: We Didn’t Even See Comey’s Let...</td>\n",
       "      <td>House Dem Aide: We Didn’t Even See Comey’s Let...</td>\n",
       "      <td>1</td>\n",
       "    </tr>\n",
       "    <tr>\n",
       "      <th>1</th>\n",
       "      <td>FLYNN: Hillary Clinton, Big Woman on Campus - ...</td>\n",
       "      <td>Ever get the feeling your life circles the rou...</td>\n",
       "      <td>0</td>\n",
       "    </tr>\n",
       "    <tr>\n",
       "      <th>2</th>\n",
       "      <td>Why the Truth Might Get You Fired</td>\n",
       "      <td>Why the Truth Might Get You Fired October 29, ...</td>\n",
       "      <td>1</td>\n",
       "    </tr>\n",
       "    <tr>\n",
       "      <th>3</th>\n",
       "      <td>15 Civilians Killed In Single US Airstrike Hav...</td>\n",
       "      <td>Videos 15 Civilians Killed In Single US Airstr...</td>\n",
       "      <td>1</td>\n",
       "    </tr>\n",
       "    <tr>\n",
       "      <th>4</th>\n",
       "      <td>Iranian woman jailed for fictional unpublished...</td>\n",
       "      <td>Print \\nAn Iranian woman has been sentenced to...</td>\n",
       "      <td>1</td>\n",
       "    </tr>\n",
       "    <tr>\n",
       "      <th>...</th>\n",
       "      <td>...</td>\n",
       "      <td>...</td>\n",
       "      <td>...</td>\n",
       "    </tr>\n",
       "    <tr>\n",
       "      <th>72129</th>\n",
       "      <td>Russians steal research on Trump in hack of U....</td>\n",
       "      <td>WASHINGTON (Reuters) - Hackers believed to be ...</td>\n",
       "      <td>0</td>\n",
       "    </tr>\n",
       "    <tr>\n",
       "      <th>72130</th>\n",
       "      <td>WATCH: Giuliani Demands That Democrats Apolog...</td>\n",
       "      <td>You know, because in fantasyland Republicans n...</td>\n",
       "      <td>1</td>\n",
       "    </tr>\n",
       "    <tr>\n",
       "      <th>72131</th>\n",
       "      <td>Migrants Refuse To Leave Train At Refugee Camp...</td>\n",
       "      <td>Migrants Refuse To Leave Train At Refugee Camp...</td>\n",
       "      <td>0</td>\n",
       "    </tr>\n",
       "    <tr>\n",
       "      <th>72132</th>\n",
       "      <td>Trump tussle gives unpopular Mexican leader mu...</td>\n",
       "      <td>MEXICO CITY (Reuters) - Donald Trump’s combati...</td>\n",
       "      <td>0</td>\n",
       "    </tr>\n",
       "    <tr>\n",
       "      <th>72133</th>\n",
       "      <td>Goldman Sachs Endorses Hillary Clinton For Pre...</td>\n",
       "      <td>Goldman Sachs Endorses Hillary Clinton For Pre...</td>\n",
       "      <td>1</td>\n",
       "    </tr>\n",
       "  </tbody>\n",
       "</table>\n",
       "<p>92934 rows × 3 columns</p>\n",
       "</div>"
      ],
      "text/plain": [
       "                                                   title   \n",
       "0      House Dem Aide: We Didn’t Even See Comey’s Let...  \\\n",
       "1      FLYNN: Hillary Clinton, Big Woman on Campus - ...   \n",
       "2                      Why the Truth Might Get You Fired   \n",
       "3      15 Civilians Killed In Single US Airstrike Hav...   \n",
       "4      Iranian woman jailed for fictional unpublished...   \n",
       "...                                                  ...   \n",
       "72129  Russians steal research on Trump in hack of U....   \n",
       "72130   WATCH: Giuliani Demands That Democrats Apolog...   \n",
       "72131  Migrants Refuse To Leave Train At Refugee Camp...   \n",
       "72132  Trump tussle gives unpopular Mexican leader mu...   \n",
       "72133  Goldman Sachs Endorses Hillary Clinton For Pre...   \n",
       "\n",
       "                                                    text  label  \n",
       "0      House Dem Aide: We Didn’t Even See Comey’s Let...      1  \n",
       "1      Ever get the feeling your life circles the rou...      0  \n",
       "2      Why the Truth Might Get You Fired October 29, ...      1  \n",
       "3      Videos 15 Civilians Killed In Single US Airstr...      1  \n",
       "4      Print \\nAn Iranian woman has been sentenced to...      1  \n",
       "...                                                  ...    ...  \n",
       "72129  WASHINGTON (Reuters) - Hackers believed to be ...      0  \n",
       "72130  You know, because in fantasyland Republicans n...      1  \n",
       "72131  Migrants Refuse To Leave Train At Refugee Camp...      0  \n",
       "72132  MEXICO CITY (Reuters) - Donald Trump’s combati...      0  \n",
       "72133  Goldman Sachs Endorses Hillary Clinton For Pre...      1  \n",
       "\n",
       "[92934 rows x 3 columns]"
      ]
     },
     "execution_count": 13,
     "metadata": {},
     "output_type": "execute_result"
    }
   ],
   "source": [
    "tot_df = pd.concat([df_train[[\"title\", \"text\", \"label\"]],new_df], axis=0)\n",
    "tot_df"
   ]
  },
  {
   "cell_type": "code",
   "execution_count": null,
   "id": "5330414d",
   "metadata": {
    "id": "5330414d"
   },
   "outputs": [],
   "source": [
    "tot_df = tot_df.fillna(\" \")"
   ]
  },
  {
   "cell_type": "code",
   "execution_count": null,
   "id": "c7c718be",
   "metadata": {
    "id": "c7c718be"
   },
   "outputs": [],
   "source": [
    "tot_df['text_stem'] = tot_df['text'].apply(stemming)"
   ]
  },
  {
   "cell_type": "code",
   "execution_count": null,
   "id": "fb933a1c",
   "metadata": {
    "id": "fb933a1c",
    "outputId": "7f2ddea4-3eff-4e62-84a3-41089c1b5750"
   },
   "outputs": [
    {
     "ename": "NameError",
     "evalue": "name 'tot_df' is not defined",
     "output_type": "error",
     "traceback": [
      "\u001b[0;31m---------------------------------------------------------------------------\u001b[0m",
      "\u001b[0;31mNameError\u001b[0m                                 Traceback (most recent call last)",
      "Cell \u001b[0;32mIn[2], line 1\u001b[0m\n\u001b[0;32m----> 1\u001b[0m tot_df\u001b[39m.\u001b[39mto_csv(\u001b[39m\"\u001b[39m\u001b[39mmega_train.csv\u001b[39m\u001b[39m\"\u001b[39m)\n",
      "\u001b[0;31mNameError\u001b[0m: name 'tot_df' is not defined"
     ]
    }
   ],
   "source": [
    "tot_df.to_csv(\"mega_train.csv\")"
   ]
  },
  {
   "cell_type": "code",
   "execution_count": 5,
   "id": "9fee0c8a",
   "metadata": {
    "id": "9fee0c8a"
   },
   "outputs": [],
   "source": [
    "tot_df = pd.read_csv(\"data/mega_train.csv\")\n",
    "tot_df = tot_df.fillna(\" \")"
   ]
  },
  {
   "cell_type": "code",
   "execution_count": 6,
   "id": "b62e2ee7",
   "metadata": {
    "id": "b62e2ee7"
   },
   "outputs": [],
   "source": [
    "x5 = tot_df[\"text_stem\"]\n",
    "y5 = tot_df[\"label\"]"
   ]
  },
  {
   "cell_type": "code",
   "execution_count": 7,
   "id": "11a0e987",
   "metadata": {
    "id": "11a0e987"
   },
   "outputs": [],
   "source": [
    "vectorizer = TfidfVectorizer()\n",
    "vectorizer.fit(x5)\n",
    "\n",
    "x5 = vectorizer.transform(x5)"
   ]
  },
  {
   "cell_type": "code",
   "execution_count": null,
   "id": "affa195e",
   "metadata": {},
   "outputs": [],
   "source": []
  },
  {
   "cell_type": "code",
   "execution_count": 8,
   "id": "30f6a58e",
   "metadata": {
    "id": "30f6a58e"
   },
   "outputs": [],
   "source": [
    "x5_train,x5_test,y5_train,y5_test = train_test_split(x5,y5,test_size = 0.2, stratify=y5, random_state=2)"
   ]
  },
  {
   "attachments": {},
   "cell_type": "markdown",
   "id": "aafcfca7",
   "metadata": {
    "id": "aafcfca7"
   },
   "source": [
    "## Log_reg Baseline"
   ]
  },
  {
   "cell_type": "code",
   "execution_count": 9,
   "id": "24e15833",
   "metadata": {
    "id": "24e15833"
   },
   "outputs": [
    {
     "name": "stderr",
     "output_type": "stream",
     "text": [
      "/home/axxe/.pyenv/versions/3.8.12/envs/nlp_fake_news/lib/python3.8/site-packages/sklearn/linear_model/_logistic.py:458: ConvergenceWarning: lbfgs failed to converge (status=1):\n",
      "STOP: TOTAL NO. of ITERATIONS REACHED LIMIT.\n",
      "\n",
      "Increase the number of iterations (max_iter) or scale the data as shown in:\n",
      "    https://scikit-learn.org/stable/modules/preprocessing.html\n",
      "Please also refer to the documentation for alternative solver options:\n",
      "    https://scikit-learn.org/stable/modules/linear_model.html#logistic-regression\n",
      "  n_iter_i = _check_optimize_result(\n"
     ]
    },
    {
     "name": "stdout",
     "output_type": "stream",
     "text": [
      "Accuracy score: 0.9503954376714908\n",
      "              precision    recall  f1-score   support\n",
      "\n",
      "        Real       0.96      0.94      0.95      9083\n",
      "        Fake       0.94      0.96      0.95      9504\n",
      "\n",
      "    accuracy                           0.95     18587\n",
      "   macro avg       0.95      0.95      0.95     18587\n",
      "weighted avg       0.95      0.95      0.95     18587\n",
      "\n"
     ]
    },
    {
     "name": "stderr",
     "output_type": "stream",
     "text": [
      "/home/axxe/.pyenv/versions/3.8.12/envs/nlp_fake_news/lib/python3.8/site-packages/sklearn/linear_model/_logistic.py:458: ConvergenceWarning: lbfgs failed to converge (status=1):\n",
      "STOP: TOTAL NO. of ITERATIONS REACHED LIMIT.\n",
      "\n",
      "Increase the number of iterations (max_iter) or scale the data as shown in:\n",
      "    https://scikit-learn.org/stable/modules/preprocessing.html\n",
      "Please also refer to the documentation for alternative solver options:\n",
      "    https://scikit-learn.org/stable/modules/linear_model.html#logistic-regression\n",
      "  n_iter_i = _check_optimize_result(\n",
      "/home/axxe/.pyenv/versions/3.8.12/envs/nlp_fake_news/lib/python3.8/site-packages/sklearn/linear_model/_logistic.py:458: ConvergenceWarning: lbfgs failed to converge (status=1):\n",
      "STOP: TOTAL NO. of ITERATIONS REACHED LIMIT.\n",
      "\n",
      "Increase the number of iterations (max_iter) or scale the data as shown in:\n",
      "    https://scikit-learn.org/stable/modules/preprocessing.html\n",
      "Please also refer to the documentation for alternative solver options:\n",
      "    https://scikit-learn.org/stable/modules/linear_model.html#logistic-regression\n",
      "  n_iter_i = _check_optimize_result(\n",
      "/home/axxe/.pyenv/versions/3.8.12/envs/nlp_fake_news/lib/python3.8/site-packages/sklearn/linear_model/_logistic.py:458: ConvergenceWarning: lbfgs failed to converge (status=1):\n",
      "STOP: TOTAL NO. of ITERATIONS REACHED LIMIT.\n",
      "\n",
      "Increase the number of iterations (max_iter) or scale the data as shown in:\n",
      "    https://scikit-learn.org/stable/modules/preprocessing.html\n",
      "Please also refer to the documentation for alternative solver options:\n",
      "    https://scikit-learn.org/stable/modules/linear_model.html#logistic-regression\n",
      "  n_iter_i = _check_optimize_result(\n",
      "/home/axxe/.pyenv/versions/3.8.12/envs/nlp_fake_news/lib/python3.8/site-packages/sklearn/linear_model/_logistic.py:458: ConvergenceWarning: lbfgs failed to converge (status=1):\n",
      "STOP: TOTAL NO. of ITERATIONS REACHED LIMIT.\n",
      "\n",
      "Increase the number of iterations (max_iter) or scale the data as shown in:\n",
      "    https://scikit-learn.org/stable/modules/preprocessing.html\n",
      "Please also refer to the documentation for alternative solver options:\n",
      "    https://scikit-learn.org/stable/modules/linear_model.html#logistic-regression\n",
      "  n_iter_i = _check_optimize_result(\n",
      "/home/axxe/.pyenv/versions/3.8.12/envs/nlp_fake_news/lib/python3.8/site-packages/sklearn/linear_model/_logistic.py:458: ConvergenceWarning: lbfgs failed to converge (status=1):\n",
      "STOP: TOTAL NO. of ITERATIONS REACHED LIMIT.\n",
      "\n",
      "Increase the number of iterations (max_iter) or scale the data as shown in:\n",
      "    https://scikit-learn.org/stable/modules/preprocessing.html\n",
      "Please also refer to the documentation for alternative solver options:\n",
      "    https://scikit-learn.org/stable/modules/linear_model.html#logistic-regression\n",
      "  n_iter_i = _check_optimize_result(\n"
     ]
    },
    {
     "data": {
      "image/png": "[encoded data removed]",
      "text/plain": [
       "<Figure size 640x480 with 1 Axes>"
      ]
     },
     "metadata": {},
     "output_type": "display_data"
    }
   ],
   "source": [
    "log_reg = LogisticRegression()\n",
    "log_reg.fit(x5_train, y5_train)\n",
    "\n",
    "# Prédire les étiquettes sur les données d'entraînement\n",
    "y5_train_predict = log_reg.predict(x5_test)\n",
    "\n",
    "# Calculer l'exactitude sur les données d'entraînement\n",
    "training_data_acc = accuracy_score(y5_test, y5_train_predict)\n",
    "print(f\"Accuracy score: {training_data_acc}\")\n",
    "\n",
    "# Afficher le rapport de classification\n",
    "target_names = ['Real', 'Fake']\n",
    "print(classification_report(y5_test, y5_train_predict, target_names=target_names))\n",
    "\n",
    "# Calculer la courbe d'apprentissage\n",
    "train_sizes, train_scores, val_scores = learning_curve(log_reg, x5_train, y5_train, cv=5, scoring='accuracy')\n",
    "\n",
    "# Calculer la moyenne et l'écart type des scores d'entraînement et de validation\n",
    "train_scores_mean = np.mean(train_scores, axis=1)\n",
    "train_scores_std = np.std(train_scores, axis=1)\n",
    "val_scores_mean = np.mean(val_scores, axis=1)\n",
    "val_scores_std = np.std(val_scores, axis=1)\n",
    "\n",
    "# Tracer la courbe d'apprentissage\n",
    "plt.figure()\n",
    "plt.title(\"Courbe d'apprentissage\")\n",
    "plt.xlabel(\"Taille de l'ensemble d'entraînement\")\n",
    "plt.ylabel(\"Score\")\n",
    "plt.grid()\n",
    "\n",
    "plt.fill_between(train_sizes, train_scores_mean - train_scores_std, train_scores_mean + train_scores_std, alpha=0.1, color=\"r\")\n",
    "plt.fill_between(train_sizes, val_scores_mean - val_scores_std, val_scores_mean + val_scores_std, alpha=0.1, color=\"g\")\n",
    "\n",
    "plt.plot(train_sizes, train_scores_mean, 'o-', color=\"r\", label=\"Score d'entraînement\")\n",
    "plt.plot(train_sizes, val_scores_mean, 'o-', color=\"g\", label=\"Score de validation\")\n",
    "\n",
    "plt.legend(loc=\"best\")\n",
    "plt.show()"
   ]
  },
  {
   "attachments": {},
   "cell_type": "markdown",
   "id": "e08f421e",
   "metadata": {
    "id": "e08f421e"
   },
   "source": [
    "## Log_reg ( CV )"
   ]
  },
  {
   "cell_type": "code",
   "execution_count": null,
   "id": "f05390d6",
   "metadata": {
    "id": "f05390d6",
    "outputId": "70682a2c-6944-40dd-8b8d-aadc11a2ab45"
   },
   "outputs": [
    {
     "name": "stderr",
     "output_type": "stream",
     "text": [
      "/home/axxe/.pyenv/versions/3.8.12/envs/nlp_fake_news/lib/python3.8/site-packages/sklearn/linear_model/_logistic.py:458: ConvergenceWarning: lbfgs failed to converge (status=1):\n",
      "STOP: TOTAL NO. of ITERATIONS REACHED LIMIT.\n",
      "\n",
      "Increase the number of iterations (max_iter) or scale the data as shown in:\n",
      "    https://scikit-learn.org/stable/modules/preprocessing.html\n",
      "Please also refer to the documentation for alternative solver options:\n",
      "    https://scikit-learn.org/stable/modules/linear_model.html#logistic-regression\n",
      "  n_iter_i = _check_optimize_result(\n",
      "/home/axxe/.pyenv/versions/3.8.12/envs/nlp_fake_news/lib/python3.8/site-packages/sklearn/linear_model/_logistic.py:458: ConvergenceWarning: lbfgs failed to converge (status=1):\n",
      "STOP: TOTAL NO. of ITERATIONS REACHED LIMIT.\n",
      "\n",
      "Increase the number of iterations (max_iter) or scale the data as shown in:\n",
      "    https://scikit-learn.org/stable/modules/preprocessing.html\n",
      "Please also refer to the documentation for alternative solver options:\n",
      "    https://scikit-learn.org/stable/modules/linear_model.html#logistic-regression\n",
      "  n_iter_i = _check_optimize_result(\n",
      "/home/axxe/.pyenv/versions/3.8.12/envs/nlp_fake_news/lib/python3.8/site-packages/sklearn/linear_model/_logistic.py:458: ConvergenceWarning: lbfgs failed to converge (status=1):\n",
      "STOP: TOTAL NO. of ITERATIONS REACHED LIMIT.\n",
      "\n",
      "Increase the number of iterations (max_iter) or scale the data as shown in:\n",
      "    https://scikit-learn.org/stable/modules/preprocessing.html\n",
      "Please also refer to the documentation for alternative solver options:\n",
      "    https://scikit-learn.org/stable/modules/linear_model.html#logistic-regression\n",
      "  n_iter_i = _check_optimize_result(\n",
      "/home/axxe/.pyenv/versions/3.8.12/envs/nlp_fake_news/lib/python3.8/site-packages/sklearn/linear_model/_logistic.py:458: ConvergenceWarning: lbfgs failed to converge (status=1):\n",
      "STOP: TOTAL NO. of ITERATIONS REACHED LIMIT.\n",
      "\n",
      "Increase the number of iterations (max_iter) or scale the data as shown in:\n",
      "    https://scikit-learn.org/stable/modules/preprocessing.html\n",
      "Please also refer to the documentation for alternative solver options:\n",
      "    https://scikit-learn.org/stable/modules/linear_model.html#logistic-regression\n",
      "  n_iter_i = _check_optimize_result(\n",
      "/home/axxe/.pyenv/versions/3.8.12/envs/nlp_fake_news/lib/python3.8/site-packages/sklearn/linear_model/_logistic.py:458: ConvergenceWarning: lbfgs failed to converge (status=1):\n",
      "STOP: TOTAL NO. of ITERATIONS REACHED LIMIT.\n",
      "\n",
      "Increase the number of iterations (max_iter) or scale the data as shown in:\n",
      "    https://scikit-learn.org/stable/modules/preprocessing.html\n",
      "Please also refer to the documentation for alternative solver options:\n",
      "    https://scikit-learn.org/stable/modules/linear_model.html#logistic-regression\n",
      "  n_iter_i = _check_optimize_result(\n"
     ]
    },
    {
     "name": "stdout",
     "output_type": "stream",
     "text": [
      "Cross-Validation Accuracy: 0.9470455734847845 +/- 0.0011363380853895533\n",
      "              precision    recall  f1-score   support\n",
      "\n",
      "        Real       0.96      0.94      0.95      9083\n",
      "        Fake       0.94      0.96      0.95      9504\n",
      "\n",
      "    accuracy                           0.95     18587\n",
      "   macro avg       0.95      0.95      0.95     18587\n",
      "weighted avg       0.95      0.95      0.95     18587\n",
      "\n"
     ]
    },
    {
     "name": "stderr",
     "output_type": "stream",
     "text": [
      "/home/axxe/.pyenv/versions/3.8.12/envs/nlp_fake_news/lib/python3.8/site-packages/sklearn/linear_model/_logistic.py:458: ConvergenceWarning: lbfgs failed to converge (status=1):\n",
      "STOP: TOTAL NO. of ITERATIONS REACHED LIMIT.\n",
      "\n",
      "Increase the number of iterations (max_iter) or scale the data as shown in:\n",
      "    https://scikit-learn.org/stable/modules/preprocessing.html\n",
      "Please also refer to the documentation for alternative solver options:\n",
      "    https://scikit-learn.org/stable/modules/linear_model.html#logistic-regression\n",
      "  n_iter_i = _check_optimize_result(\n",
      "/home/axxe/.pyenv/versions/3.8.12/envs/nlp_fake_news/lib/python3.8/site-packages/sklearn/linear_model/_logistic.py:458: ConvergenceWarning: lbfgs failed to converge (status=1):\n",
      "STOP: TOTAL NO. of ITERATIONS REACHED LIMIT.\n",
      "\n",
      "Increase the number of iterations (max_iter) or scale the data as shown in:\n",
      "    https://scikit-learn.org/stable/modules/preprocessing.html\n",
      "Please also refer to the documentation for alternative solver options:\n",
      "    https://scikit-learn.org/stable/modules/linear_model.html#logistic-regression\n",
      "  n_iter_i = _check_optimize_result(\n",
      "/home/axxe/.pyenv/versions/3.8.12/envs/nlp_fake_news/lib/python3.8/site-packages/sklearn/linear_model/_logistic.py:458: ConvergenceWarning: lbfgs failed to converge (status=1):\n",
      "STOP: TOTAL NO. of ITERATIONS REACHED LIMIT.\n",
      "\n",
      "Increase the number of iterations (max_iter) or scale the data as shown in:\n",
      "    https://scikit-learn.org/stable/modules/preprocessing.html\n",
      "Please also refer to the documentation for alternative solver options:\n",
      "    https://scikit-learn.org/stable/modules/linear_model.html#logistic-regression\n",
      "  n_iter_i = _check_optimize_result(\n",
      "/home/axxe/.pyenv/versions/3.8.12/envs/nlp_fake_news/lib/python3.8/site-packages/sklearn/linear_model/_logistic.py:458: ConvergenceWarning: lbfgs failed to converge (status=1):\n",
      "STOP: TOTAL NO. of ITERATIONS REACHED LIMIT.\n",
      "\n",
      "Increase the number of iterations (max_iter) or scale the data as shown in:\n",
      "    https://scikit-learn.org/stable/modules/preprocessing.html\n",
      "Please also refer to the documentation for alternative solver options:\n",
      "    https://scikit-learn.org/stable/modules/linear_model.html#logistic-regression\n",
      "  n_iter_i = _check_optimize_result(\n",
      "/home/axxe/.pyenv/versions/3.8.12/envs/nlp_fake_news/lib/python3.8/site-packages/sklearn/linear_model/_logistic.py:458: ConvergenceWarning: lbfgs failed to converge (status=1):\n",
      "STOP: TOTAL NO. of ITERATIONS REACHED LIMIT.\n",
      "\n",
      "Increase the number of iterations (max_iter) or scale the data as shown in:\n",
      "    https://scikit-learn.org/stable/modules/preprocessing.html\n",
      "Please also refer to the documentation for alternative solver options:\n",
      "    https://scikit-learn.org/stable/modules/linear_model.html#logistic-regression\n",
      "  n_iter_i = _check_optimize_result(\n"
     ]
    },
    {
     "data": {
      "image/png": "[encoded data removed]",
      "text/plain": [
       "<Figure size 640x480 with 1 Axes>"
      ]
     },
     "metadata": {},
     "output_type": "display_data"
    }
   ],
   "source": [
    "log_reg = LogisticRegression()\n",
    "\n",
    "# Effectuer la validation croisée\n",
    "cv_scores = cross_val_score(log_reg, x5_train, y5_train, cv=5, scoring='accuracy')\n",
    "\n",
    "# Calculer la moyenne et l'écart type des scores de validation croisée\n",
    "cv_scores_mean = np.mean(cv_scores)\n",
    "cv_scores_std = np.std(cv_scores)\n",
    "\n",
    "print(f\"Cross-Validation Accuracy: {cv_scores_mean} +/- {cv_scores_std}\")\n",
    "\n",
    "# Afficher le rapport de classification\n",
    "target_names = ['Real', 'Fake']\n",
    "print(classification_report(y5_test, y5_train_predict, target_names=target_names))\n",
    "\n",
    "# Calculer la courbe d'apprentissage\n",
    "train_sizes, train_scores, val_scores = learning_curve(log_reg, x5_train, y5_train, cv=5, scoring='accuracy')\n",
    "\n",
    "# Calculer la moyenne et l'écart type des scores d'entraînement et de validation\n",
    "train_scores_mean = np.mean(train_scores, axis=1)\n",
    "train_scores_std = np.std(train_scores, axis=1)\n",
    "val_scores_mean = np.mean(val_scores, axis=1)\n",
    "val_scores_std = np.std(val_scores, axis=1)\n",
    "\n",
    "# Tracer la courbe d'apprentissage\n",
    "plt.figure()\n",
    "plt.title(\"Courbe d'apprentissage\")\n",
    "plt.xlabel(\"Taille de l'ensemble d'entraînement\")\n",
    "plt.ylabel(\"Score\")\n",
    "plt.grid()\n",
    "\n",
    "plt.fill_between(train_sizes, train_scores_mean - train_scores_std, train_scores_mean + train_scores_std, alpha=0.1, color=\"r\")\n",
    "plt.fill_between(train_sizes, val_scores_mean - val_scores_std, val_scores_mean + val_scores_std, alpha=0.1, color=\"g\")\n",
    "\n",
    "plt.plot(train_sizes, train_scores_mean, 'o-', color=\"r\", label=\"Score d'entraînement\")\n",
    "plt.plot(train_sizes, val_scores_mean, 'o-', color=\"g\", label=\"Score de validation\")\n",
    "\n",
    "plt.legend(loc=\"best\")\n",
    "plt.show()\n"
   ]
  },
  {
   "attachments": {},
   "cell_type": "markdown",
   "id": "fe16b8e0",
   "metadata": {
    "id": "fe16b8e0"
   },
   "source": [
    "## XGBoost Classifier"
   ]
  },
  {
   "cell_type": "code",
   "execution_count": null,
   "id": "09079c81",
   "metadata": {
    "id": "09079c81"
   },
   "outputs": [],
   "source": [
    "bst = XGBClassifier(n_estimators=5, max_depth=5, learning_rate=1, objective='binary:logistic')"
   ]
  },
  {
   "cell_type": "code",
   "execution_count": null,
   "id": "fda31522",
   "metadata": {
    "id": "fda31522",
    "outputId": "9cc87d85-bfe9-4e28-8f56-3a310e570085"
   },
   "outputs": [
    {
     "name": "stdout",
     "output_type": "stream",
     "text": [
      "Accuracy score: 0.9083230214666165\n",
      "              precision    recall  f1-score   support\n",
      "\n",
      "        Real       0.92      0.89      0.90      9083\n",
      "        Fake       0.90      0.93      0.91      9504\n",
      "\n",
      "    accuracy                           0.91     18587\n",
      "   macro avg       0.91      0.91      0.91     18587\n",
      "weighted avg       0.91      0.91      0.91     18587\n",
      "\n"
     ]
    }
   ],
   "source": [
    "# fit model\n",
    "bst.fit(x5_train, y5_train)\n",
    "# make predictions\n",
    "preds = bst.predict(x5_test)\n",
    "\n",
    "training_data_acc = accuracy_score(y5_test, preds)\n",
    "print(f\"Accuracy score: {training_data_acc}\")\n",
    "\n",
    "target_names = ['Real', 'Fake']\n",
    "print(classification_report(y5_test, preds, target_names=target_names))"
   ]
  },
  {
   "attachments": {},
   "cell_type": "markdown",
   "id": "4ae43791",
   "metadata": {
    "id": "4ae43791"
   },
   "source": [
    "# Submission to Kaggle"
   ]
  },
  {
   "cell_type": "code",
   "execution_count": null,
   "id": "08607bf4",
   "metadata": {
    "id": "08607bf4"
   },
   "outputs": [],
   "source": [
    "'''sub = bst.predict(x2)\n",
    "\n",
    "submit = df_test\n",
    "submission = pd.DataFrame({\n",
    "    'id': df_test['id'],\n",
    "    'label': sub\n",
    "})\n",
    "submission = submission.set_index(\"id\")'''"
   ]
  },
  {
   "cell_type": "code",
   "execution_count": null,
   "id": "aa183f1b",
   "metadata": {
    "id": "aa183f1b"
   },
   "outputs": [],
   "source": [
    "'''submission.to_csv(\"submits.csv\")'''"
   ]
  },
  {
   "cell_type": "code",
   "execution_count": null,
   "id": "9ed2a1fd",
   "metadata": {
    "id": "9ed2a1fd"
   },
   "outputs": [],
   "source": []
  }
 ],
 "metadata": {
  "colab": {
   "provenance": []
  },
  "kernelspec": {
   "display_name": "Python 3 (ipykernel)",
   "language": "python",
   "name": "python3"
  },
  "language_info": {
   "codemirror_mode": {
    "name": "ipython",
    "version": 3
   },
   "file_extension": ".py",
   "mimetype": "text/x-python",
   "name": "python",
   "nbconvert_exporter": "python",
   "pygments_lexer": "ipython3",
   "version": "3.8.12"
  },
  "toc": {
   "base_numbering": 1,
   "nav_menu": {},
   "number_sections": true,
   "sideBar": true,
   "skip_h1_title": false,
   "title_cell": "Table of Contents",
   "title_sidebar": "Contents",
   "toc_cell": false,
   "toc_position": {},
   "toc_section_display": true,
   "toc_window_display": false
  }
 },
 "nbformat": 4,
 "nbformat_minor": 5
}
